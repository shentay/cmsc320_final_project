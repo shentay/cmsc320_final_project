{
 "cells": [
  {
   "cell_type": "markdown",
   "id": "05c03ae1-4147-40a6-83cd-d8396359f4f8",
   "metadata": {},
   "source": [
    "# Analysis of Income in Maryland\n",
    "**by Yuan Shen Tay**"
   ]
  },
  {
   "cell_type": "markdown",
   "id": "c4b7d8f0-c369-41ba-8d68-25fea2b926f6",
   "metadata": {
    "tags": []
   },
   "source": [
    "## Introduction"
   ]
  },
  {
   "cell_type": "markdown",
   "id": "cb9128cf-ddb7-4e57-b4b3-d0546882a930",
   "metadata": {},
   "source": [
    "Over the years, living cost has been increasing throughout the country which lead to the question on how much income is needed in order to sustain. The living cost varies from state to state and even from county to county due to the difference in housing prices and cost of basic necessities.  \n",
    "\n",
    "Through my tutorial, I will be looking at the income for each county across Maryland. I will analyze the trend on the income for each county and predict the income for Maryland as a whole. Through my analysis, I will also see if there is any correlation between poverty rates and income. \n",
    "\n"
   ]
  },
  {
   "cell_type": "markdown",
   "id": "22946076-d6a7-42bb-90e0-6423420e8e38",
   "metadata": {
    "jp-MarkdownHeadingCollapsed": true,
    "tags": []
   },
   "source": [
    "## Importing Libraries"
   ]
  },
  {
   "cell_type": "markdown",
   "id": "138f2831-7f86-4a6d-b15e-6e603445f2ee",
   "metadata": {},
   "source": [
    "Before you start the analysis, we would need to import some libraries that contain tools which we need and will help us carry out the analysis. The libraries used in this project are:  \n",
    "**pandas** - Pandas has the tools needed for data analysis and manipulation mainly the dataframes   \n",
    "**numpy** - Numpy is a scientific computing library that we can use on large multidimensional arrays   \n",
    "**matplotlib** - Matplotlib is a plotting library for us to plot and visualize our data    \n",
    "**sklearn** - SciKit Learn is a Machine Learning library that large number of models where we can use to classify our data  \n",
    "**statsmodels** - statsmodels contains functions that can be used to estimate statistical models and conducting tests"
   ]
  },
  {
   "cell_type": "code",
   "execution_count": null,
   "id": "879a3f82-2724-4dfd-bedc-0afa855acac2",
   "metadata": {},
   "outputs": [],
   "source": [
    "import pandas as pd\n",
    "import numpy as np\n",
    "import matplotlib.pyplot as plt\n",
    "from sklearn import linear_model\n",
    "from sklearn.model_selection import train_test_split\n",
    "from statsmodels.formula.api import ols"
   ]
  },
  {
   "cell_type": "markdown",
   "id": "cda777b3-bde6-4f39-9026-4de7434209e0",
   "metadata": {
    "jp-MarkdownHeadingCollapsed": true,
    "tags": []
   },
   "source": [
    "## Data Collection"
   ]
  },
  {
   "cell_type": "markdown",
   "id": "0f11b006-f6e6-4524-a1c0-28d3832a4162",
   "metadata": {
    "tags": []
   },
   "source": [
    "### Importing Data"
   ]
  },
  {
   "cell_type": "markdown",
   "id": "087451b9-1c4b-4e38-a9d8-06945686fde3",
   "metadata": {},
   "source": [
    "The first stage of the data life cycle is collecting data. The dataset used is obtained from Maryland state open data website. The links for the dataset are:  \n",
    "https://opendata.maryland.gov/Demographic/Maryland-Per-Capita-Personal-Income-Constant-2012-/q4mi-9fr9  \n",
    "https://opendata.maryland.gov/Planning/Poverty-Rate-With-Margin-Of-Error-2010-2019/iudf-4y2j  \n",
    "https://opendata.maryland.gov/Demographic/Maryland-Median-Household-Income-By-Year-With-Marg/bvk4-qsxs  \n",
    "\n",
    "The website already has Application Programming Interface (API) which allows to directly connect with the websites and obtain the csv files which contains the data. The dataset are we are using contains the income per capita, poverty rate and median household income for each county in Maryland."
   ]
  },
  {
   "cell_type": "code",
   "execution_count": null,
   "id": "c618eb75-a33a-405d-931e-d5d0551699fd",
   "metadata": {},
   "outputs": [],
   "source": [
    "income_per_capita = pd.read_csv('https://opendata.maryland.gov/resource/q4mi-9fr9.csv')\n",
    "income_per_capita.head()"
   ]
  },
  {
   "cell_type": "code",
   "execution_count": null,
   "id": "22674fcc-5d82-4ff7-9899-a567846c04ed",
   "metadata": {},
   "outputs": [],
   "source": [
    "poverty_rate = pd.read_csv('https://opendata.maryland.gov/resource/iudf-4y2j.csv')\n",
    "poverty_rate.head()"
   ]
  },
  {
   "cell_type": "code",
   "execution_count": null,
   "id": "51bbb461-bead-4acb-9524-ed153032e1da",
   "metadata": {},
   "outputs": [],
   "source": [
    "median_income = pd.read_csv('https://opendata.maryland.gov/resource/bvk4-qsxs.csv')\n",
    "median_income.head()"
   ]
  },
  {
   "cell_type": "markdown",
   "id": "2b0be9ec-0068-46f3-ae5a-3c76d0fe2430",
   "metadata": {
    "jp-MarkdownHeadingCollapsed": true,
    "tags": []
   },
   "source": [
    "## Data Management"
   ]
  },
  {
   "cell_type": "markdown",
   "id": "b42ff67c-37c1-47ae-bf93-9f197db02ab5",
   "metadata": {
    "tags": []
   },
   "source": [
    "Now that we have our collected our data, the next step will be to tidy up our data which means that we would want to filter out everything which is not used in our analysis and to handle missing entries in our dataset."
   ]
  },
  {
   "cell_type": "markdown",
   "id": "a0b722f0-ff2b-46bb-ad95-478b40ae302c",
   "metadata": {
    "jp-MarkdownHeadingCollapsed": true,
    "tags": []
   },
   "source": [
    "### Missing Entries"
   ]
  },
  {
   "cell_type": "markdown",
   "id": "8dbed263-3c63-4db7-882f-639344e8388f",
   "metadata": {},
   "source": [
    "We would need to check for any missing data in our datasets"
   ]
  },
  {
   "cell_type": "code",
   "execution_count": null,
   "id": "78aa6a02-2bb6-42f0-a619-fc910ef411ce",
   "metadata": {},
   "outputs": [],
   "source": [
    "income_per_capita.isna().sum()"
   ]
  },
  {
   "cell_type": "code",
   "execution_count": null,
   "id": "b635e5d5-6d2d-4548-9156-54eba6c9631e",
   "metadata": {},
   "outputs": [],
   "source": [
    "poverty_rate.isna().sum()"
   ]
  },
  {
   "cell_type": "code",
   "execution_count": null,
   "id": "e6ed0d2c-f220-401c-857d-5e33200ce5c5",
   "metadata": {},
   "outputs": [],
   "source": [
    "median_income.isna().sum()"
   ]
  },
  {
   "cell_type": "markdown",
   "id": "776c7731-9dd0-4d32-a37d-95a3717c022f",
   "metadata": {},
   "source": [
    "Fortunately, since the sum of missing entries is 0 for everything, we have no missing entries on our data. If there were missing entries, we can call the function dropna() to drop all missing entries from our data. However, it is not always the case to handle missing entries by just dropping them. "
   ]
  },
  {
   "cell_type": "markdown",
   "id": "aac5c97c-ae89-48a2-b9ac-c0a75399202c",
   "metadata": {
    "jp-MarkdownHeadingCollapsed": true,
    "tags": []
   },
   "source": [
    "### Dropping Unused Data"
   ]
  },
  {
   "cell_type": "markdown",
   "id": "8a6fe7de-c70a-4a4b-83a2-74b5e5d68fae",
   "metadata": {},
   "source": [
    "Next, we will be dropping off rows and columns that are not used. For the rows, we will not be using rows that are marked MOE in the poverty rate and median income tables as they are the margin of error. For the columns, we will only need the year and value of each county. So, we will be dropping all the other columns and setting the years to be the index"
   ]
  },
  {
   "cell_type": "code",
   "execution_count": null,
   "id": "3f6dd1b1-cdb9-4125-bd2c-38569e09f238",
   "metadata": {},
   "outputs": [],
   "source": [
    "# dropping data from the income per capita table\n",
    "income_per_capita = income_per_capita.drop(columns=['date_created'])\n",
    "income_per_capita = income_per_capita.set_index('year')\n",
    "income_per_capita.head()"
   ]
  },
  {
   "cell_type": "code",
   "execution_count": null,
   "id": "c65316ea-bfed-48a3-950e-f0c0dfbdd1e3",
   "metadata": {},
   "outputs": [],
   "source": [
    "# dropping data from the poverty rate table\n",
    "poverty_rate = poverty_rate.loc[poverty_rate['estimate'] == 'Poverty Rate']\n",
    "poverty_rate = poverty_rate.drop(columns=['date_created', 'estimate'])\n",
    "poverty_rate = poverty_rate.set_index('year')\n",
    "poverty_rate.head()"
   ]
  },
  {
   "cell_type": "code",
   "execution_count": null,
   "id": "0ea0c75b-5f49-4e45-a2b6-0de2bbc9c1c4",
   "metadata": {},
   "outputs": [],
   "source": [
    "# dropping data from the median income table\n",
    "median_income = median_income.loc[median_income['data'] == 'Income']\n",
    "median_income = median_income.drop(columns=['date_created', 'data'])\n",
    "median_income = median_income.set_index('year')\n",
    "median_income.head()"
   ]
  },
  {
   "cell_type": "markdown",
   "id": "81220911-70f2-4125-850c-023588905762",
   "metadata": {
    "jp-MarkdownHeadingCollapsed": true,
    "tags": []
   },
   "source": [
    "### Combining Data"
   ]
  },
  {
   "cell_type": "markdown",
   "id": "d5b451de-c7f1-4fe4-a2ad-592a69583419",
   "metadata": {},
   "source": [
    "Lastly, I will combine all the county data together to be represented in the same table using a MultiIndex which are the years and counties."
   ]
  },
  {
   "cell_type": "code",
   "execution_count": null,
   "id": "8af270dd-3825-41f6-ae5b-af49c3bde6dd",
   "metadata": {},
   "outputs": [],
   "source": [
    "# combining all county data\n",
    "\n",
    "# getting the years that we are analyzing\n",
    "years = poverty_rate.index\n",
    "\n",
    "# getting all the counties in Maryland\n",
    "counties = income_per_capita.columns\n",
    "counties = counties[1:]\n",
    "\n",
    "all_data = pd.DataFrame()\n",
    "index = [years, counties]\n",
    "index = pd.MultiIndex.from_product(index, names = ['years', 'county'])\n",
    "per_capita = []\n",
    "median = []\n",
    "poverty = []\n",
    "for year in years:\n",
    "    per_capita.extend(income_per_capita.loc[year][1:].values)\n",
    "    median.extend(median_income.loc[year][1:].values)\n",
    "    poverty.extend(poverty_rate.loc[year][1:].values)\n",
    "all_data['income_per_capita'] = per_capita\n",
    "all_data['median_income'] = median\n",
    "all_data['poverty_rate'] = poverty\n",
    "all_data = all_data.set_index(index)\n",
    "all_data.head()"
   ]
  },
  {
   "cell_type": "markdown",
   "id": "344920bf-7ea3-41ff-a3c0-d75ec7708b57",
   "metadata": {
    "tags": []
   },
   "source": [
    "## Exploratory Data Analysis And Data Visualization"
   ]
  },
  {
   "cell_type": "markdown",
   "id": "063caafb-7f6b-4cf0-bb40-e2fc3a7ad1e4",
   "metadata": {},
   "source": [
    "Now that we have tidied up all our data, we are ready to start analyzing and visualize our data which is the next step in the data science pipeline. "
   ]
  },
  {
   "cell_type": "markdown",
   "id": "af561dac-1820-4612-b08c-aff93259ff91",
   "metadata": {
    "jp-MarkdownHeadingCollapsed": true,
    "tags": []
   },
   "source": [
    "### Analysis of Income Trend"
   ]
  },
  {
   "cell_type": "markdown",
   "id": "e20e5537-9287-4ccf-8001-74dd63d2b7bb",
   "metadata": {},
   "source": [
    "To analyze the income trend, I will be looking at the median household income and income per capita for each county over the years 2010 and 2019 but first, we want to see the trend of income in Maryland as a whole."
   ]
  },
  {
   "cell_type": "code",
   "execution_count": null,
   "id": "ae72019a-8a80-4c6b-9529-73d5295864ff",
   "metadata": {},
   "outputs": [],
   "source": [
    "# extracting the income per capita and median income for maryland\n",
    "maryland_per_capita = income_per_capita['maryland']\n",
    "maryland_median = median_income['maryland']\n",
    "\n",
    "# setting the size of the graph\n",
    "plt.figure(figsize=(10,10))\n",
    "           \n",
    "# plotting the income graph\n",
    "plt.plot(years, maryland_per_capita, label=\"Income Per Capita\")\n",
    "plt.plot(years, maryland_median, label=\"Median Income\")\n",
    "plt.title('Income Graph of Maryland from 2010 to 2019')\n",
    "plt.xlabel('Year')\n",
    "plt.ylabel('Income')\n",
    "plt.legend()\n",
    "plt.show()"
   ]
  },
  {
   "cell_type": "markdown",
   "id": "39e86d9a-d0cf-4b69-87b7-cff192e0b97c",
   "metadata": {},
   "source": [
    "As we can see there is an increasing trend in both the income per capita and median income in Maryland as a whole. We can also see that the median income is much higher than the income per capita which makes sense as the total population is taken into consideration for the calculations to find the income per capita. \n",
    "\n",
    "Now, we want to visualzie the trend of income for each county in Maryland to see if all counties are having the same trends"
   ]
  },
  {
   "cell_type": "code",
   "execution_count": null,
   "id": "c03d7b67-44b0-422f-bdca-92cf8f7e1fa4",
   "metadata": {},
   "outputs": [],
   "source": [
    "# plotting the graph\n",
    "plt.figure(figsize=(15,10))\n",
    "for county in counties:\n",
    "    median = all_data.groupby(['county']).get_group(county)['median_income']\n",
    "    plt.plot(years, median, marker = 'o', label=county)\n",
    "plt.title('Median Income Graph of Counties from 2010 to 2019')\n",
    "plt.xlabel('Year')\n",
    "plt.ylabel('Income')\n",
    "plt.legend(loc=9, bbox_to_anchor=(0.5, -0.1), ncol = 5)\n",
    "plt.show() "
   ]
  },
  {
   "cell_type": "markdown",
   "id": "591d716c-81f3-4797-ab33-210d11ad4ee2",
   "metadata": {},
   "source": [
    "Based on the median graph, we can see that not all counties have the same trend across the years and some counties. In the year 2019, Baltimore City, Somerset County, St. Mary's County and Washington County are showing a decreasing trend. Despite that, all counties do have a net increase in median income compared to 2010."
   ]
  },
  {
   "cell_type": "code",
   "execution_count": null,
   "id": "3470d4cf-8412-4d51-a2b2-4dd45150641b",
   "metadata": {},
   "outputs": [],
   "source": [
    "plt.figure(figsize=(15,10))\n",
    "for county in counties:\n",
    "    per_capita = all_data.groupby(['county']).get_group(county)['income_per_capita']\n",
    "    plt.plot(years, per_capita, marker = 'o', label=county)\n",
    "plt.title('Income Per Capita Graph of Counties from 2010 to 2019')\n",
    "plt.xlabel('Year')\n",
    "plt.ylabel('Income')\n",
    "plt.legend(loc=9, bbox_to_anchor=(0.5, -0.1), ncol = 5)\n",
    "plt.show() "
   ]
  },
  {
   "cell_type": "markdown",
   "id": "dcc5ca16-4cb1-49b6-b16d-585b4e675646",
   "metadata": {},
   "source": [
    "From the income per capita graph of the counties, all counties are showing some sort of increasing trend but at different magnitudes. Hence, due to the difference in trend, we might want to visualize the distribution of each county over the years to see if the different trend and magnitudes have any impact on the income distribution in Maryland."
   ]
  },
  {
   "cell_type": "code",
   "execution_count": null,
   "id": "b00be1e4-3e57-4f24-8651-fc90748c6576",
   "metadata": {},
   "outputs": [],
   "source": [
    "# plotting a graph for each county\n",
    "for year in years:\n",
    "   # extracting the income per capita and median income for the county\n",
    "    per_capita = all_data.groupby(['years']).get_group(year)['income_per_capita']\n",
    "    median = all_data.groupby(['years']).get_group(year)['median_income']\n",
    "\n",
    "    # setting the size of the graph\n",
    "    plt.figure(figsize=(10,10))\n",
    "\n",
    "    # plotting the income graph\n",
    "    plt.plot(counties, per_capita, label=\"Income Per Capita\")\n",
    "    plt.plot(counties, median, label=\"Median Income\")\n",
    "    plt.title('Income Graph in ' + str(year))\n",
    "    plt.xlabel('County')\n",
    "    plt.xticks(rotation = 90)\n",
    "    plt.ylabel('Income')\n",
    "    plt.legend()\n",
    "    plt.show() "
   ]
  },
  {
   "cell_type": "markdown",
   "id": "4e843b65-f7db-427a-8829-cf16a1018d0f",
   "metadata": {},
   "source": [
    "Looking at the counties side by side, there is not much change in the shape of the graph over the years for both the median income and income per capita. This shows that despite the increase in income over time, the distribution of income across the counties are still the same. Besides that, this also shows that the difference in trends of each county over the years did not have much impact on the distribution of incomes across counties. \n",
    "\n",
    "Hence, we can still say that there is an increasing trend of income in all counties in Maryland over the years."
   ]
  },
  {
   "cell_type": "markdown",
   "id": "3df1e095-c58f-486f-ba39-67260e24e8df",
   "metadata": {
    "tags": []
   },
   "source": [
    "### Analysis of Poverty Rate"
   ]
  },
  {
   "cell_type": "markdown",
   "id": "54914f43-9c9e-400e-bf23-4ae4c5127cd3",
   "metadata": {},
   "source": [
    "First, we would want to look at the trend of poverty rate across years for Maryland."
   ]
  },
  {
   "cell_type": "code",
   "execution_count": null,
   "id": "00142675-da98-4ea4-85e6-c27e98d5886a",
   "metadata": {},
   "outputs": [],
   "source": [
    "# extracting the maryland poverty rate\n",
    "maryland_poverty_rate = poverty_rate['maryland']\n",
    "\n",
    "# setting the size of the graph\n",
    "plt.figure(figsize=(10,10))\n",
    "\n",
    "# plotting the income graph\n",
    "plt.plot(years, maryland_poverty_rate)\n",
    "plt.title('Graph of Maryland Poverty Rate from 2010 to 2019')\n",
    "plt.xlabel('Year')\n",
    "plt.ylabel('Poverty Rate')\n",
    "plt.show()  "
   ]
  },
  {
   "cell_type": "markdown",
   "id": "18a934d7-5ece-4619-84e6-fab146b6390e",
   "metadata": {},
   "source": [
    "The graph shows a decreasing trend across years which suggests that the increase in income might be the reason behind the decrease in poverty rates. Then, we want to look at the poverty rates across county in the year 2019."
   ]
  },
  {
   "cell_type": "code",
   "execution_count": null,
   "id": "d44b0345-e2d8-46b9-bb45-fe27e56be51c",
   "metadata": {},
   "outputs": [],
   "source": [
    "# setting the size of the graph\n",
    "plt.figure(figsize=(10,10))\n",
    "\n",
    "# plotting the income graph\n",
    "plt.plot(counties, poverty_rate.loc[years[-1]][1:])\n",
    "plt.title('Graph of Poverty Rate by County')\n",
    "plt.xlabel('County')\n",
    "plt.xticks(rotation=90)\n",
    "plt.ylabel('Poverty Rate')\n",
    "plt.show()"
   ]
  },
  {
   "cell_type": "markdown",
   "id": "c19e9ef2-3eb2-4aa2-8e6f-1ca5c9ca859f",
   "metadata": {},
   "source": [
    "The poverty rates seem to have some correlation to income as the counties with higher incomes have lower poverty rates."
   ]
  },
  {
   "cell_type": "markdown",
   "id": "324cb9f1-4ae0-456f-af4d-73fae5749d69",
   "metadata": {
    "tags": []
   },
   "source": [
    "## Hypothesis Testing"
   ]
  },
  {
   "cell_type": "markdown",
   "id": "d2671290-ed32-40cd-b19c-7447884ee64b",
   "metadata": {},
   "source": [
    "The next phase in the data science pipeline is to perform modeling techniques such as linear regression, decision trees and k-nearest-neighbor to obtain predictive model of our data. Using the predictive model, we can carry out hypothesis testing. "
   ]
  },
  {
   "cell_type": "markdown",
   "id": "36edadbf-424d-488c-bd2e-3db587a8e245",
   "metadata": {
    "jp-MarkdownHeadingCollapsed": true,
    "tags": []
   },
   "source": [
    "### Predicting Maryland State Income"
   ]
  },
  {
   "cell_type": "markdown",
   "id": "92986ac7-d009-459e-a04f-47679193538c",
   "metadata": {
    "tags": []
   },
   "source": [
    "In this part, we will fit a linear regression onto our data and use the equation of the regression to predict future income values. A linear model has the equation,\n",
    "<center>$Y = mX + c$</center>\n",
    "where M is the slope and c is the intercept"
   ]
  },
  {
   "cell_type": "code",
   "execution_count": null,
   "id": "cd0fc760-cd51-4f25-bf45-27b7b23b3c91",
   "metadata": {
    "tags": []
   },
   "outputs": [],
   "source": [
    "# getting the year index values into a 2d array\n",
    "x = maryland_median.index\n",
    "y = maryland_median\n",
    "\n",
    "m, c = np.polyfit(x,y, deg=1)\n",
    "\n",
    "plt.figure(figsize=(10,10))\n",
    "plt.plot(x, y, 'o', x, m*x + c)\n",
    "plt.xlabel('Year')\n",
    "plt.ylabel('Median Income')\n",
    "plt.title('Predicted Graph of Median Income')\n",
    "plt.show()"
   ]
  },
  {
   "cell_type": "code",
   "execution_count": null,
   "id": "68fb85fa-3bb7-4cf9-b358-5fa1aff775e8",
   "metadata": {
    "tags": []
   },
   "outputs": [],
   "source": [
    "print('The slope, m is ' + str(m) +' and the intercept, c is ' + str(c))"
   ]
  },
  {
   "cell_type": "markdown",
   "id": "b7d7295d-ab61-4a94-9219-f20739d2c14f",
   "metadata": {
    "tags": []
   },
   "source": [
    "Therefore, our equation is:\n",
    "<center>$Y = 1933.12X - 3818109.27$</center>"
   ]
  },
  {
   "cell_type": "code",
   "execution_count": null,
   "id": "eb6a1543-76e1-464c-8990-e6c2ce1997c6",
   "metadata": {
    "tags": []
   },
   "outputs": [],
   "source": [
    "m*2022+c"
   ]
  },
  {
   "cell_type": "markdown",
   "id": "b8bb0d07-d8f4-4dac-b69e-d13dabbd17e4",
   "metadata": {
    "tags": []
   },
   "source": [
    "Using this equation, our predicted median income for this year, 2022 is $\\$$90,649.56"
   ]
  },
  {
   "cell_type": "markdown",
   "id": "6e463dcc-0b17-4d1b-92b5-73dd9a7924cc",
   "metadata": {
    "tags": []
   },
   "source": [
    "### Poverty Rates and Income Correlation"
   ]
  },
  {
   "cell_type": "markdown",
   "id": "5c9005e7-dd79-42e0-b81d-b1b0321f43c7",
   "metadata": {},
   "source": [
    "I will be exploring the relationship between poverty rates and income. In order to see if there is a relationship between them, I will be using a linear regression.  \n",
    "**Null Hypothesis, $H_0$**: There is no relationship between poverty rates and income  \n",
    "**Alternative Hypothesis, $H_1$**: There is a relationship between poverty rates and income  \n"
   ]
  },
  {
   "cell_type": "code",
   "execution_count": null,
   "id": "f9066d36-50a8-4392-800d-f94d1148fa6b",
   "metadata": {},
   "outputs": [],
   "source": [
    "# creating our model\n",
    "per_capita_model = linear_model.LinearRegression()\n",
    "median_model = linear_model.LinearRegression()\n",
    "\n",
    "x1 = np.array(all_data['income_per_capita']).reshape(len(all_data['income_per_capita']), 1)\n",
    "x2 = np.array(all_data['median_income']).reshape(len(all_data['median_income']), 1)\n",
    "y = np.array(all_data['poverty_rate']).reshape(len(all_data['poverty_rate']), 1)\n",
    "\n",
    "# fitting the data into our model\n",
    "per_capita_model.fit(x1, y)\n",
    "median_model.fit(x2, y)"
   ]
  },
  {
   "cell_type": "markdown",
   "id": "d423f2d2-c024-496b-8e6e-900f5972335c",
   "metadata": {},
   "source": [
    "Now that we have trained our linear models and trained it using the fit() function, we want to visualize the prediction as well as get its results."
   ]
  },
  {
   "cell_type": "code",
   "execution_count": null,
   "id": "7fb31ab6-34a2-4ede-a537-d62a1ba6d63e",
   "metadata": {},
   "outputs": [],
   "source": [
    "plt.figure(figsize=(10,10))\n",
    "plt.plot(all_data['income_per_capita'], all_data['poverty_rate'], 'o')\n",
    "\n",
    "# using the model to predict the values\n",
    "predicted = per_capita_model.predict(x1)\n",
    "plt.plot(all_data['income_per_capita'], predicted)\n",
    "\n",
    "plt.xlabel('Income per capita')\n",
    "plt.ylabel('Poverty Rate')\n",
    "plt.title('Poverty Rate vs Income Per Capita')\n",
    "plt.show()\n",
    "\n",
    "results = ols(formula = 'income_per_capita ~ poverty_rate', data = all_data).fit()\n",
    "results.summary()"
   ]
  },
  {
   "cell_type": "code",
   "execution_count": null,
   "id": "9cfe5d69-4f16-4629-9c2b-177eebeb898d",
   "metadata": {},
   "outputs": [],
   "source": [
    "# plotting the model and getting the results\n",
    "plt.figure(figsize=(10,10))\n",
    "plt.plot(all_data['median_income'], all_data['poverty_rate'], 'o')\n",
    "\n",
    "# using the model to predict the values\n",
    "predicted = median_model.predict(x2)\n",
    "plt.plot(all_data['median_income'], predicted)\n",
    "\n",
    "plt.xlabel('Median Income')\n",
    "plt.ylabel('Poverty Rate')\n",
    "plt.title('Poverty Rate vs Median Income')\n",
    "plt.show()\n",
    "\n",
    "results = ols(formula = 'median_income ~ poverty_rate', data = all_data).fit()\n",
    "results.summary()"
   ]
  },
  {
   "cell_type": "markdown",
   "id": "0c70ab01-edbe-4899-a15a-88cb982bf910",
   "metadata": {},
   "source": [
    "To understand how well the predicted line fits our data, we can use the coefficient of determination, $R^2$ which tells us on a scale of 0 to 1 how well the regression fits the data. The $R^2$ score for poverty rate against income per capita is around $0.523$ and the score for poverty rate against median income is around $0.745$. The score for median income against poverty rate is relatively okay. \n",
    "\n",
    "Next, we would have to look at the p-value which us whether our null hypothesis is statistically significant. Typically a p-value of $0.05$ is used and if the p-value found is less than that, we would reject the null hypothesis. The p-value found for both our models are $0$ which means that it is nigh impossible for both the pairs to exist given income has no effect on poverty rate. Hence, we will reject our null hypothesis in favor of the alternative hypothesis which is that there is statistically significant evidence that income has effect on poverty rates. Based on the graph, we can see that income inversely impacts the poverty rates."
   ]
  },
  {
   "cell_type": "markdown",
   "id": "1099a4a0-a6f4-49f3-95ae-ff81d9a92992",
   "metadata": {},
   "source": [
    "## Insights Attained"
   ]
  },
  {
   "cell_type": "markdown",
   "id": "dddacba1-cac2-4e93-a498-d2aad94466f3",
   "metadata": {},
   "source": [
    "As a result of our analysis, we confirmed that the trend of income is increasing over time in Maryland. Despite the increase in income, each county in Maryland experiences a different trend in their change of income where it may increase or decrease over time but will eventually lead to a higher income. However, the difference in trend does not impact the income distribution in Maryland which means that counties with higher incomes still remains as is and counties with lower incomes also remains. \n",
    "\n",
    "Next off we concluded that there is a correlation between income and poverty rate where the higher the income, the lower the poverty rate of the county. However, since the distribution of incomes of counties in Maryland remains the same, the poverty rate distribution also remains unchanged. \n",
    "\n",
    "In the future, I would like to further extend my findings on increasing income to whether the increase in income can keep up with the increase of living expenses over the years. Also, I would like to further extend my findings to the scale of the whole US rather than just limiting myself to Maryland."
   ]
  }
 ],
 "metadata": {
  "kernelspec": {
   "display_name": "Python 3 (ipykernel)",
   "language": "python",
   "name": "python3"
  },
  "language_info": {
   "codemirror_mode": {
    "name": "ipython",
    "version": 3
   },
   "file_extension": ".py",
   "mimetype": "text/x-python",
   "name": "python",
   "nbconvert_exporter": "python",
   "pygments_lexer": "ipython3",
   "version": "3.9.7"
  }
 },
 "nbformat": 4,
 "nbformat_minor": 5
}
